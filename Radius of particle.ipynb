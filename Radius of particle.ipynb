{
 "cells": [
  {
   "cell_type": "code",
   "execution_count": null,
   "metadata": {},
   "outputs": [],
   "source": [
    "pixsize =  #declare size of a pixel according to your equipment."
   ]
  },
  {
   "cell_type": "code",
   "execution_count": null,
   "metadata": {},
   "outputs": [],
   "source": [
    "cf =   #declare conversion factor according to the equipment used."
   ]
  },
  {
   "cell_type": "code",
   "execution_count": null,
   "metadata": {},
   "outputs": [],
   "source": [
    "#import the necessary packages for the analysis of visual data. numpy, pandas and matplotlib are fundamental and you can set parameters\n",
    "# for your graphs in matplotlib. pims library is necessary for image sequences. and trackpy allows for particle tracking\n",
    "# declare the parameters for the charts that the data produces.\n",
    " \n",
    "import numpy as np\n",
    "import matplotlib as mpl\n",
    "\n",
    "import matplotlib.pyplot as plt\n",
    "import pandas as pd\n",
    "import pims\n",
    "import trackpy as tp\n",
    "tp.ignore_logging()\n",
    "import warnings\n",
    "\n",
    "import os\n",
    "import tifffile as ti\n",
    "from scipy.optimize import curve_fit\n",
    "\n",
    "mpl.rcParams['font.size'] = 16\n",
    "mpl.rcParams['figure.figsize']=(5, 4)\n",
    "warnings.filterwarnings('ignore')"
   ]
  },
  {
   "cell_type": "code",
   "execution_count": null,
   "metadata": {},
   "outputs": [],
   "source": [
    "frames = ti.imread('Name of file')#use imread to import the desired image sequence"
   ]
  },
  {
   "cell_type": "code",
   "execution_count": null,
   "metadata": {},
   "outputs": [],
   "source": [
    "#use the .locate to locate particles the diameter and threshold are on a case by case basis\n",
    "\n",
    "particles = tp.locate(frames[500], 11, invert=False, threshold=60, minmass=20)\n",
    "plt.figure()\n",
    "yy = tp.annotate(particles, frames[500]);"
   ]
  },
  {
   "cell_type": "code",
   "execution_count": null,
   "metadata": {},
   "outputs": [],
   "source": [
    "#save the dataframe as a csv file if necessary\n",
    "df = pd.DataFrame(particles.head(n=???))\n",
    "df.to_csv('data.csv', index = False)"
   ]
  },
  {
   "cell_type": "code",
   "execution_count": null,
   "metadata": {},
   "outputs": [],
   "source": [
    "#localizing all particles in all frames\n",
    "particles = tp.batch(frames[: no. of frames], 19, invert=False, threshold=??, minmass=??)"
   ]
  },
  {
   "cell_type": "code",
   "execution_count": null,
   "metadata": {},
   "outputs": [],
   "source": [
    "trajs = tp.link_df(particles,5,memory = 1)#linking trajectories of particles "
   ]
  },
  {
   "cell_type": "code",
   "execution_count": null,
   "metadata": {},
   "outputs": [],
   "source": [
    "em = tp.emsd(trajs, ??, ??)#to find mean squared displacement"
   ]
  },
  {
   "cell_type": "code",
   "execution_count": null,
   "metadata": {},
   "outputs": [],
   "source": [
    "#now plot the msds vs time\n",
    "\n",
    "nt = ??\n",
    "tau = np.insert(em.index[:nt], 0, 0)\n",
    "msd = np.insert(em.values[:nt], 0, 0)\n",
    "\n",
    "def f1(x, k): #y=k*x\n",
    "    return k*x\n",
    "\n",
    "popt, pcov = curve_fit(f1, tau, msd)\n",
    "print('slope = %.2f' % popt[0])\n",
    "plt.figure()\n",
    "plt.plot(tau, msd,'bo', ms=12)\n",
    "plt.plot(tau, f1(tau, *popt), 'r--', lw=2)\n",
    "plt.xlabel(r'$\\tau$ (s)')\n",
    "plt.ylabel(r'MSD ($\\mu$m$^2$/s)')\n",
    "plt.show()"
   ]
  },
  {
   "cell_type": "code",
   "execution_count": null,
   "metadata": {},
   "outputs": [],
   "source": [
    "diff_coef = popt[0]/4 #this gives the diffusion coefficient"
   ]
  },
  {
   "cell_type": "code",
   "execution_count": null,
   "metadata": {},
   "outputs": [],
   "source": [
    "# this gives the radius of the particle using the einstein stokes relation. The base assumption is that the particles are\n",
    "#assumed to be spherical and also not have any effect on the viscosity of the medium. Here the medium is water\n",
    "# the equations must be modified according to the medium and the shape of the particle. \n",
    "k = 1.38064852/(10**23)\n",
    "T = 20\n",
    "a = 10**15\n",
    "diff_coeff = popt[0]/4\n",
    "def radius():\n",
    "    kT = k*T\n",
    "    D = diff_coeff\n",
    "    gamma = 6*(np.pi)*D\n",
    "    r = a*kT/gamma\n",
    "    print(r)\n",
    "radius()"
   ]
  }
 ],
 "metadata": {
  "kernelspec": {
   "display_name": "Python 3",
   "language": "python",
   "name": "python3"
  },
  "language_info": {
   "codemirror_mode": {
    "name": "ipython",
    "version": 3
   },
   "file_extension": ".py",
   "mimetype": "text/x-python",
   "name": "python",
   "nbconvert_exporter": "python",
   "pygments_lexer": "ipython3",
   "version": "3.8.5"
  }
 },
 "nbformat": 4,
 "nbformat_minor": 4
}
